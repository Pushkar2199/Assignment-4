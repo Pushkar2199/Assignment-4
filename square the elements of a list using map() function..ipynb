{
 "cells": [
  {
   "cell_type": "code",
   "execution_count": 3,
   "id": "43a159a6",
   "metadata": {
    "scrolled": true
   },
   "outputs": [
    {
     "name": "stdout",
     "output_type": "stream",
     "text": [
      "Square the elements of the list : [16, 25, 4, 81]\n"
     ]
    }
   ],
   "source": [
    "l = [4, 5, 2, 9]\n",
    " \n",
    "a = list(map(lambda l : l**2 ,l))\n",
    "print(\"Square the elements of the list :\",a)"
   ]
  },
  {
   "cell_type": "code",
   "execution_count": null,
   "id": "2121f81b",
   "metadata": {},
   "outputs": [],
   "source": []
  }
 ],
 "metadata": {
  "kernelspec": {
   "display_name": "Python 3 (ipykernel)",
   "language": "python",
   "name": "python3"
  },
  "language_info": {
   "codemirror_mode": {
    "name": "ipython",
    "version": 3
   },
   "file_extension": ".py",
   "mimetype": "text/x-python",
   "name": "python",
   "nbconvert_exporter": "python",
   "pygments_lexer": "ipython3",
   "version": "3.10.1"
  }
 },
 "nbformat": 4,
 "nbformat_minor": 5
}
